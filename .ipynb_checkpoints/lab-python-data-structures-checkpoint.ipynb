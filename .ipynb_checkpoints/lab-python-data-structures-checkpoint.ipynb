{
 "cells": [
  {
   "cell_type": "markdown",
   "metadata": {
    "editable": true,
    "slideshow": {
     "slide_type": ""
    },
    "tags": []
   },
   "source": [
    "# Lab | Data Structures "
   ]
  },
  {
   "cell_type": "markdown",
   "metadata": {
    "editable": true,
    "slideshow": {
     "slide_type": ""
    },
    "tags": []
   },
   "source": [
    "## Exercise: Managing Customer Orders\n",
    "\n",
    "As part of a business venture, you are starting an online store that sells various products. To ensure smooth operations, you need to develop a program that manages customer orders and inventory.\n",
    "\n",
    "Follow the steps below to complete the exercise:\n",
    "\n",
    "1. Define a list called `products` that contains the following items: \"t-shirt\", \"mug\", \"hat\", \"book\", \"keychain\".\n",
    "\n",
    "2. Create an empty dictionary called `inventory`.\n",
    "\n",
    "3. Ask the user to input the quantity of each product available in the inventory. Use the product names from the `products` list as keys in the `inventory` dictionary and assign the respective quantities as values.\n",
    "\n",
    "4. Create an empty set called `customer_orders`.\n",
    "\n",
    "5. Ask the user to input the name of three products that a customer wants to order (from those in the products list, meaning three products out of \"t-shirt\", \"mug\", \"hat\", \"book\" or \"keychain\". Add each product name to the `customer_orders` set.\n",
    "\n",
    "6. Print the products in the `customer_orders` set.\n",
    "\n",
    "7. Calculate the following order statistics:\n",
    "   - Total Products Ordered: The total number of products in the `customer_orders` set.\n",
    "   - Percentage of Products Ordered: The percentage of products ordered compared to the total available products.\n",
    "   \n",
    "   Store these statistics in a tuple called `order_status`.\n",
    "\n",
    "8. Print the order statistics using the following format:\n",
    "   ```\n",
    "   Order Statistics:\n",
    "   Total Products Ordered: <total_products_ordered>\n",
    "   Percentage of Products Ordered: <percentage_ordered>% \n",
    "   ```\n",
    "\n",
    "9. Update the inventory by subtracting 1 from the quantity of each product. Modify the `inventory` dictionary accordingly.\n",
    "\n",
    "10. Print the updated inventory, displaying the quantity of each product on separate lines.\n",
    "\n",
    "Solve the exercise by implementing the steps using the Python concepts of lists, dictionaries, sets, and basic input/output operations. "
   ]
  },
  {
   "cell_type": "code",
   "execution_count": null,
   "metadata": {},
   "outputs": [],
   "source": []
  },
  {
   "cell_type": "code",
   "execution_count": 100,
   "metadata": {
    "editable": true,
    "slideshow": {
     "slide_type": ""
    },
    "tags": []
   },
   "outputs": [
    {
     "name": "stdout",
     "output_type": "stream",
     "text": [
      "Total of products:  5\n"
     ]
    },
    {
     "name": "stdin",
     "output_type": "stream",
     "text": [
      "Please enter the quantity available for t-shirt:  35\n",
      "Please enter the quantity available for mug:  27\n",
      "Please enter the quantity available for hat:  62\n",
      "Please enter the quantity available for book:  46\n",
      "Please enter the quantity available for keychain:  80\n"
     ]
    },
    {
     "name": "stdout",
     "output_type": "stream",
     "text": [
      "{'t-shirt': 35, 'mug': 27, 'hat': 62, 'book': 46, 'keychain': 80}\n",
      "<class 'dict'>\n"
     ]
    }
   ],
   "source": [
    "#Follow the steps below to complete the exercise:\n",
    "#Define a list called products that contains the following items: \"t-shirt\", \"mug\", \"hat\", \"book\", \"keychain\".\n",
    "#Create an empty dictionary called inventory.\n",
    "#Ask the user to input the quantity of each product available in the inventory. Use the product names from the products list as keys in the inventory dictionary and assign the respective quantities as values.\n",
    "\n",
    "\n",
    "products = [\"t-shirt\", \"mug\", \"hat\", \"book\", \"keychain\"]\n",
    "number_of_products=len(products)\n",
    "print(\"Total of products: \", number_of_products)\n",
    "inventory = {}\n",
    "inventory[products[0]] = int(input(f\"Please enter the quantity available for {products[0]}: \"))\n",
    "inventory[products[1]] = int(input(f\"Please enter the quantity available for {products[1]}: \"))\n",
    "inventory[products[2]] = int(input(f\"Please enter the quantity available for {products[2]}: \"))\n",
    "inventory[products[3]] = int(input(f\"Please enter the quantity available for {products[3]}: \"))\n",
    "inventory[products[4]] = int(input(f\"Please enter the quantity available for {products[4]}: \"))\n",
    "print(inventory)\n",
    "print(type(inventory))"
   ]
  },
  {
   "cell_type": "code",
   "execution_count": 101,
   "metadata": {
    "editable": true,
    "slideshow": {
     "slide_type": ""
    },
    "tags": []
   },
   "outputs": [
    {
     "name": "stdin",
     "output_type": "stream",
     "text": [
      "Please enter the first item you'd like to order from the following ['t-shirt', 'mug', 'hat', 'book', 'keychain']:  hat\n",
      "Please enter the second item you'd like to order from the following ['t-shirt', 'mug', 'hat', 'book', 'keychain']:  mug\n",
      "Please enter the third item you'd like to order from the following ['t-shirt', 'mug', 'hat', 'book', 'keychain']:  book\n"
     ]
    },
    {
     "name": "stdout",
     "output_type": "stream",
     "text": [
      "Thanks for your order!\n",
      "Here is your purchase summary: {'book', 'mug', 'hat'}\n",
      "The total of products that you have ordered is:  3\n",
      "<class 'set'>\n"
     ]
    }
   ],
   "source": [
    "#Create an empty set called customer_orders.\n",
    "#Ask the user to input the name of three products that a customer wants to order (from those in the products list, meaning three products out of \"t-shirt\", \"mug\", \"hat\", \"book\" or \"keychain\". Add each product name to the customer_orders set.\n",
    "#Print the products in the customer_orders set.\n",
    "\n",
    "customers_order= set()\n",
    "total_products_order = len(customers_order)\n",
    "\n",
    "customers_order.add(input(\"Please enter the first item you'd like to order from the following \" + str(products) + \": \"))\n",
    "customers_order.add(input(\"Please enter the second item you'd like to order from the following \" + str(products) + \": \"))\n",
    "customers_order.add(input(\"Please enter the third item you'd like to order from the following \" + str(products) + \": \"))\n",
    "\n",
    "print(\"Thanks for your order!\")\n",
    "print(\"Here is your purchase summary:\", customers_order)\n",
    "print(\"The total of products that you have ordered is: \",len(customers_order))\n",
    "print(type(customers_order))\n"
   ]
  },
  {
   "cell_type": "code",
   "execution_count": 102,
   "metadata": {
    "editable": true,
    "slideshow": {
     "slide_type": ""
    },
    "tags": []
   },
   "outputs": [
    {
     "name": "stdout",
     "output_type": "stream",
     "text": [
      "The total of products ordered:  3\n",
      "Percentage of products ordered:  13.043478260869565\n",
      "The updated inventory is:\n",
      "{'t-shirt': 34, 'mug': 26, 'hat': 61, 'book': 45, 'keychain': 79}\n",
      "The updated inventory is:\n",
      "t-shirt: 34\n",
      "mug: 26\n",
      "hat: 61\n",
      "book: 45\n",
      "keychain: 79\n"
     ]
    }
   ],
   "source": [
    "#Calculate the following order statistics:\n",
    "#Total Products Ordered: The total number of products in the customer_orders set.\n",
    "#Percentage of Products Ordered: The percentage of products ordered compared to the total available products.\n",
    "#Store these statistics in a tuple called order_status.\n",
    "#Print the order statistics using the following format:\n",
    "#Order Statistics:\n",
    "#Total Products Ordered: <total_products_ordered>\n",
    "#Percentage of Products Ordered: <percentage_ordered>% \n",
    "#Update the inventory by subtracting 1 from the quantity of each product. Modify the inventory dictionary accordingly.\n",
    "#Print the updated inventory, displaying the quantity of each product on separate lines.\n",
    "#print(\"Order Statistics: \")\n",
    "\n",
    "total_of_ordered_products = len(customers_order)\n",
    "print(\"The total of products ordered: \",total_of_ordered_products )\n",
    "#Percentage of Products Ordered: The percentage of products ordered compared to the total available products.\n",
    "customers_order\n",
    "available_products = sum(inventory.values())\n",
    "percentage_of_products_ordered = (total_of_ordered_products / total_available_products) * 100\n",
    "print (\"Percentage of products ordered: \", percentage_of_products_ordered)\n",
    "\n",
    "#Update the inventory by subtracting 1 from the quantity of each product. Modify the inventory dictionary accordingly.\n",
    "for product in inventory:\n",
    "    inventory[product] -= 1\n",
    "\n",
    "print(\"The updated inventory is:\")\n",
    "print(inventory)\n",
    "\n",
    "print(\"The updated inventory is:\")\n",
    "for product, quantity in inventory.items():\n",
    "    print(product + \": \" + str(quantity))\n"
   ]
  },
  {
   "cell_type": "code",
   "execution_count": null,
   "metadata": {},
   "outputs": [],
   "source": []
  }
 ],
 "metadata": {
  "kernelspec": {
   "display_name": "Python 3 (ipykernel)",
   "language": "python",
   "name": "python3"
  },
  "language_info": {
   "codemirror_mode": {
    "name": "ipython",
    "version": 3
   },
   "file_extension": ".py",
   "mimetype": "text/x-python",
   "name": "python",
   "nbconvert_exporter": "python",
   "pygments_lexer": "ipython3",
   "version": "3.11.7"
  }
 },
 "nbformat": 4,
 "nbformat_minor": 4
}
